{
 "cells": [
  {
   "cell_type": "code",
   "execution_count": 13,
   "id": "9465fdde",
   "metadata": {},
   "outputs": [
    {
     "data": {
      "text/plain": [
       "-1"
      ]
     },
     "execution_count": 13,
     "metadata": {},
     "output_type": "execute_result"
    }
   ],
   "source": [
    "import numpy as np\n",
    "import cv2\n",
    "\n",
    "image = cv2.imread('Sign3.jpg')\n",
    "result = image.copy()\n",
    "image = cv2.cvtColor(image, cv2.COLOR_BGR2HSV)\n",
    "lower = np.array([90, 38, 0])\n",
    "upper = np.array([145, 255, 255])\n",
    "mask = cv2.inRange(image, lower, upper)\n",
    "\n",
    "kernel = cv2.getStructuringElement(cv2.MORPH_RECT, (3,3))\n",
    "opening = cv2.morphologyEx(mask, cv2.MORPH_OPEN, kernel, iterations=6)\n",
    "close = cv2.morphologyEx(opening, cv2.MORPH_CLOSE, kernel, iterations=3)\n",
    "\n",
    "cnts = cv2.findContours(close, cv2.RETR_EXTERNAL, cv2.CHAIN_APPROX_SIMPLE)\n",
    "#cnts = sorted(cnts, key= cv2.contourArea, reverse=True)[:1]\n",
    "cnts = cnts[0] if len(cnts) == 2 else cnts[1]\n",
    "\n",
    "boxes = []\n",
    "for c in cnts:\n",
    "    (x, y, w, h) = cv2.boundingRect(c)\n",
    "    boxes.append([x,y, x+w,y+h])\n",
    "\n",
    "boxes = np.asarray(boxes)\n",
    "left = np.min(boxes[:,0])\n",
    "top = np.min(boxes[:,1])\n",
    "right = np.max(boxes[:,2])\n",
    "bottom = np.max(boxes[:,3])\n",
    "\n",
    "result[close==0] = (255,255,255)\n",
    "ROI = result[top:bottom, left:right].copy()\n",
    "cv2.rectangle(result, (left,top), (right,bottom), (36, 255, 12), 2)\n",
    "\n",
    "cv2.imshow('result', result)\n",
    "#cv2.imshow('ROI', ROI)\n",
    "#cv2.imshow('close', close)\n",
    "cv2.imwrite('result.png', result)\n",
    "cv2.imwrite('ROI.png', ROI)\n",
    "cv2.waitKey()"
   ]
  },
  {
   "cell_type": "code",
   "execution_count": null,
   "id": "6b29573e",
   "metadata": {},
   "outputs": [],
   "source": []
  }
 ],
 "metadata": {
  "kernelspec": {
   "display_name": "Python 3 (ipykernel)",
   "language": "python",
   "name": "python3"
  },
  "language_info": {
   "codemirror_mode": {
    "name": "ipython",
    "version": 3
   },
   "file_extension": ".py",
   "mimetype": "text/x-python",
   "name": "python",
   "nbconvert_exporter": "python",
   "pygments_lexer": "ipython3",
   "version": "3.8.13"
  }
 },
 "nbformat": 4,
 "nbformat_minor": 5
}
